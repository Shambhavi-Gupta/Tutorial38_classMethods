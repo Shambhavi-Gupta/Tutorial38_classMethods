{
  "nbformat": 4,
  "nbformat_minor": 0,
  "metadata": {
    "colab": {
      "name": "Tutorial38_class_methods.ipynb",
      "provenance": [],
      "authorship_tag": "ABX9TyO3WBods3piIokzM/d4+RHK",
      "include_colab_link": true
    },
    "kernelspec": {
      "name": "python3",
      "display_name": "Python 3"
    }
  },
  "cells": [
    {
      "cell_type": "markdown",
      "metadata": {
        "id": "view-in-github",
        "colab_type": "text"
      },
      "source": [
        "<a href=\"https://colab.research.google.com/github/Shambhavi-Gupta/Tutorial38_classMethods/blob/main/Tutorial38_class_methods.ipynb\" target=\"_parent\"><img src=\"https://colab.research.google.com/assets/colab-badge.svg\" alt=\"Open In Colab\"/></a>"
      ]
    },
    {
      "cell_type": "code",
      "metadata": {
        "id": "ZfgxfCc_cjwa"
      },
      "source": [
        "class Student:\r\n",
        "    no_of_subjects = 5 #class variable\r\n",
        "    def __init__(self,aname,astandard,asection):\r\n",
        "        self.name = aname\r\n",
        "        self.standard = astandard\r\n",
        "        self.section = asection\r\n",
        "\r\n",
        "#Main key point -> when I run one.details then one turns to be self\r\n",
        "    def details(self):\r\n",
        "        return f\"Name is {self.name}, Standard is {self.standard}\"\r\n",
        " #I have made this classmethod so that I get cls inside the bracket\r\n",
        "    @classmethod\r\n",
        "    def change_subject(cls , leaves):\r\n",
        "          cls.no_of_subjects = leaves\r\n",
        "\r\n",
        "one = Student(\"Riya\",10,\"A\") #one and two are instance\r\n",
        "two = Student(\"Seema\",12,\"B\")\r\n",
        "Student.change_subject(21)\r\n",
        "print(two.no_of_subjects)\r\n",
        "#classmethod can be access from any instance or any class\r\n",
        "#If we want to make a method that can be accessed by instance as well\r\n",
        "#as class and the argument which we pass and we don't want to take self\r\n",
        "#then we use classmethod."
      ],
      "execution_count": null,
      "outputs": []
    }
  ]
}